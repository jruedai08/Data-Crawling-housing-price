{
 "cells": [
  {
   "cell_type": "markdown",
   "id": "8f06d135-11b0-4270-bb0b-2c2e352fc116",
   "metadata": {
    "tags": []
   },
   "source": [
    "# Data Crawling\n",
    "This small project shows two methods of data crawling based on selenium and beautifulsoup."
   ]
  },
  {
   "cell_type": "code",
   "execution_count": 24,
   "id": "bfbce4cf-7d0e-433d-b8b2-e4f362ccf47d",
   "metadata": {
    "tags": []
   },
   "outputs": [],
   "source": [
    "import numpy as np\n",
    "import pandas as pd\n",
    "\n",
    "from selenium import webdriver\n",
    "from selenium.common import NoSuchElementException\n",
    "import time\n",
    "\n",
    "#We know that BeautifulSoup is also a powerful pachage in data crawling, hence we'll compare it with selenium to discuss their differences.\n",
    "from bs4 import BeautifulSoup\n",
    "import lxml\n",
    "\n",
    "import re\n",
    "\n",
    "import matplotlib.pyplot as plt\n",
    "from pylab import mpl"
   ]
  },
  {
   "cell_type": "markdown",
   "id": "ce1dbd7f-fb0e-4706-a825-f15c31d63cb0",
   "metadata": {
    "tags": []
   },
   "source": [
    "Let's crawl the data of second-hand house from https://esf.fang.com/ as a prerequisite of further data analyses."
   ]
  },
  {
   "cell_type": "code",
   "execution_count": 25,
   "id": "2c6fa5e6-97a8-41fe-bf35-1d445e0c006f",
   "metadata": {
    "tags": []
   },
   "outputs": [],
   "source": [
    "#Enter the targeted website through selenium.\n",
    "driver = webdriver.Edge()\n",
    "#To access the target url\n",
    "url = \"https://esf.fang.com/\"\n",
    "driver.get(url)"
   ]
  },
  {
   "cell_type": "code",
   "execution_count": 26,
   "id": "896d54db-38ca-4c7f-8af3-51750a984598",
   "metadata": {
    "tags": []
   },
   "outputs": [],
   "source": [
    "#Enter the page of targeted region, the region I was allocated is Guanyin Temple in Daxing.\n",
    "address1 = '大兴'\n",
    "address2 = '观音寺'\n",
    "driver.find_element('partial link text',address1).click()\n",
    "driver.find_element('partial link text',address2).click()"
   ]
  },
  {
   "cell_type": "markdown",
   "id": "59879af7-dcc7-4e07-954f-453dcfdae96a",
   "metadata": {},
   "source": [
    "Through self learning I know there is a package called BeautifulSoup,</br>\n",
    "while Selenium could interact with the web page which enable it to scape dynamic web pages,</br>\n",
    "BeautifulSoup could scape a static web page more efficiently.</br>\n",
    "Hence I'll construct two functions, while one is contructed on Selenium individually and another combines Selenium and BeautifulSoup, and compare their efficiency.\n",
    "#### Selenium Edition"
   ]
  },
  {
   "cell_type": "code",
   "execution_count": 27,
   "id": "0386e0aa-2542-474c-b853-44c7a9d8d149",
   "metadata": {
    "tags": []
   },
   "outputs": [],
   "source": [
    "def get_data(driver):\n",
    "    #Get the dataset with the same class name\n",
    "    basic_info = driver.find_elements('class name','tel_shop')\n",
    "    loc_info = driver.find_elements('class name','add_shop')\n",
    "    price_info = driver.find_elements('class name','price_right')\n",
    "    info_list = []\n",
    "    \n",
    "    #Split the information from different houses\n",
    "    for i in range(len(basic_info)):\n",
    "        #The location and the community of houses\n",
    "        title,loc = loc_info[i].text.split('\\n')\n",
    "        block = loc.split('-')[0]\n",
    "\n",
    "        #Several basic information of the houses, use regular expressions to help me get the them while some might be absent.\n",
    "        basic = basic_info[i].text.replace('|',' ')\n",
    "        size = re.findall('\\d+[.\\d+]{0,}㎡',basic)[0].strip('㎡') if re.findall('\\d+㎡',basic) else None\n",
    "        year = re.findall('\\d+年建',basic)[0].strip('年建') if re.findall('\\d+年建',basic) else None\n",
    "\n",
    "        #Price information of the houses\n",
    "        total_p,per_p = price_info[i].text.split('\\n')\n",
    "        total_p = total_p.strip('万')\n",
    "        per_p = per_p.strip('元/㎡')\n",
    "\n",
    "        #Sort the information into a dictionary.\n",
    "        house_info = {'title':title,\n",
    "                      'size(㎡)':size,\n",
    "                      'year':year,\n",
    "                      'location':loc,\n",
    "                      'total price(万)':total_p,\n",
    "                      'price per square(元/㎡)':per_p,\n",
    "                      'block':block}\n",
    "        \n",
    "        info_list.append(house_info)\n",
    "        \n",
    "    return pd.DataFrame(info_list)"
   ]
  },
  {
   "cell_type": "code",
   "execution_count": 28,
   "id": "d3133a34-1142-4fad-bd65-918c3205b228",
   "metadata": {
    "tags": []
   },
   "outputs": [
    {
     "name": "stdout",
     "output_type": "stream",
     "text": [
      "CPU times: total: 766 ms\n",
      "Wall time: 37.3 s\n"
     ]
    }
   ],
   "source": [
    "%%time\n",
    "house_list = pd.DataFrame()\n",
    "i = 0\n",
    "while i == 0:\n",
    "    house_list = pd.concat([house_list,get_data(driver)])\n",
    "    \n",
    "    #Turn to the next page\n",
    "    try:\n",
    "        next_page = driver.find_element('partial link text','下一页')\n",
    "        driver.execute_script(\"arguments[0].click();\",next_page)\n",
    "    except NoSuchElementException:\n",
    "        break"
   ]
  },
  {
   "cell_type": "markdown",
   "id": "9398b170-3b42-4dc7-be9d-b80a17557d33",
   "metadata": {},
   "source": [
    "#### BeautifulSoup Edition"
   ]
  },
  {
   "cell_type": "code",
   "execution_count": 24,
   "id": "75b44eb6-d0d6-4315-8dbd-100a8cb71241",
   "metadata": {
    "tags": []
   },
   "outputs": [],
   "source": [
    "def get_data_s(driver):\n",
    "    #Transfer the driver from Selenium to BeautifulSoup\n",
    "    source = driver.page_source\n",
    "    soup = BeautifulSoup(source, 'lxml')\n",
    "    \n",
    "    #Get all the data in one time\n",
    "    all_data = soup.find(class_='shop_list shop_list_4').find_all('dl')\n",
    "    info_list = []\n",
    "    \n",
    "    #Split the information from different houses\n",
    "    for house in all_data:\n",
    "        ##The location and the community of houses\n",
    "        title = house.find(class_='add_shop').find('a').text\n",
    "        loc = house.find(class_='add_shop').find('span').text\n",
    "        block = loc.split('-')[0]\n",
    "        \n",
    "        #Several basic information of the houses, use regular expressions to help me get the them while some might be absent.\n",
    "        basic = house.find(class_='tel_shop').text.replace('\\n','').replace('\\t','').replace('|',' ')\n",
    "        size = re.findall('\\d+[.\\d+]{0,}㎡',basic)[0].strip('㎡') if re.findall('\\d+㎡',basic) else None\n",
    "        year = re.findall('\\d+年建',basic)[0].strip('年建') if re.findall('\\d+年建',basic) else None\n",
    "    \n",
    "        #Price information of the houses\n",
    "        price = house.find(class_='price_right').text.split()\n",
    "        total_p = price[0]\n",
    "        per_p = price[1]\n",
    "        \n",
    "        #Sort the information into a dictionary.\n",
    "        house_info = {'title':title,\n",
    "                      'size(㎡)':size,\n",
    "                      'year':year,\n",
    "                      'location':loc,\n",
    "                      'total price(万)':total_p,\n",
    "                      'price per square(元/㎡)':per_p,\n",
    "                      'block':block}\n",
    "        \n",
    "        info_list.append(house_info)\n",
    "        \n",
    "    return pd.DataFrame(info_list)"
   ]
  },
  {
   "cell_type": "code",
   "execution_count": 26,
   "id": "d0605074-47c5-41be-a26c-e9e29b4c1714",
   "metadata": {
    "tags": []
   },
   "outputs": [
    {
     "name": "stdout",
     "output_type": "stream",
     "text": [
      "CPU times: total: 1.78 s\n",
      "Wall time: 17.1 s\n"
     ]
    }
   ],
   "source": [
    "%%time\n",
    "house_list_s = pd.DataFrame()\n",
    "j = 0\n",
    "while j == 0:\n",
    "    house_list_s = pd.concat([house_list_s,get_data_s(driver)])\n",
    "    \n",
    "    #Turn to the next page\n",
    "    try:\n",
    "        next_page = driver.find_element('partial link text','下一页')\n",
    "        driver.execute_script(\"arguments[0].click();\",next_page)\n",
    "    except NoSuchElementException:\n",
    "        break"
   ]
  },
  {
   "cell_type": "markdown",
   "id": "3c45dd7e-e698-4dd9-852c-e502754a9afb",
   "metadata": {},
   "source": [
    "We could see that BeautifulSoup is more efficient then Selenium in scape a static page,</br>\n",
    "hence a combination of BeautifulSoup and Selenium would be more powerful."
   ]
  },
  {
   "cell_type": "code",
   "execution_count": 29,
   "id": "3503044f-a21e-4f9b-bbfc-d5fe88047e07",
   "metadata": {
    "tags": []
   },
   "outputs": [
    {
     "data": {
      "text/html": [
       "<div>\n",
       "<style scoped>\n",
       "    .dataframe tbody tr th:only-of-type {\n",
       "        vertical-align: middle;\n",
       "    }\n",
       "\n",
       "    .dataframe tbody tr th {\n",
       "        vertical-align: top;\n",
       "    }\n",
       "\n",
       "    .dataframe thead th {\n",
       "        text-align: right;\n",
       "    }\n",
       "</style>\n",
       "<table border=\"1\" class=\"dataframe\">\n",
       "  <thead>\n",
       "    <tr style=\"text-align: right;\">\n",
       "      <th></th>\n",
       "      <th>title</th>\n",
       "      <th>size(㎡)</th>\n",
       "      <th>year</th>\n",
       "      <th>location</th>\n",
       "      <th>total price(万)</th>\n",
       "      <th>price per square(元/㎡)</th>\n",
       "      <th>block</th>\n",
       "    </tr>\n",
       "  </thead>\n",
       "  <tbody>\n",
       "    <tr>\n",
       "      <th>0</th>\n",
       "      <td>双河南里</td>\n",
       "      <td>99.36</td>\n",
       "      <td>1999</td>\n",
       "      <td>观音寺-(大兴)双河南里</td>\n",
       "      <td>330</td>\n",
       "      <td>33212</td>\n",
       "      <td>观音寺</td>\n",
       "    </tr>\n",
       "    <tr>\n",
       "      <th>1</th>\n",
       "      <td>海子角西里</td>\n",
       "      <td>82.72</td>\n",
       "      <td>2000</td>\n",
       "      <td>观音寺-(大兴)海子角西里</td>\n",
       "      <td>249</td>\n",
       "      <td>30101</td>\n",
       "      <td>观音寺</td>\n",
       "    </tr>\n",
       "    <tr>\n",
       "      <th>2</th>\n",
       "      <td>观音寺南里</td>\n",
       "      <td>84.64</td>\n",
       "      <td>2005</td>\n",
       "      <td>观音寺-(大兴)观音寺南里</td>\n",
       "      <td>275</td>\n",
       "      <td>32490</td>\n",
       "      <td>观音寺</td>\n",
       "    </tr>\n",
       "    <tr>\n",
       "      <th>3</th>\n",
       "      <td>观音寺小区</td>\n",
       "      <td>83.12</td>\n",
       "      <td>1994</td>\n",
       "      <td>观音寺-观音寺街20号</td>\n",
       "      <td>328</td>\n",
       "      <td>39461</td>\n",
       "      <td>观音寺</td>\n",
       "    </tr>\n",
       "    <tr>\n",
       "      <th>4</th>\n",
       "      <td>观音寺南里</td>\n",
       "      <td>130.04</td>\n",
       "      <td>2001</td>\n",
       "      <td>观音寺-(大兴)观音寺南里</td>\n",
       "      <td>411</td>\n",
       "      <td>31605</td>\n",
       "      <td>观音寺</td>\n",
       "    </tr>\n",
       "    <tr>\n",
       "      <th>5</th>\n",
       "      <td>海子角南里</td>\n",
       "      <td>77.75</td>\n",
       "      <td>2006</td>\n",
       "      <td>观音寺-(大兴)海子角南里</td>\n",
       "      <td>190</td>\n",
       "      <td>24437</td>\n",
       "      <td>观音寺</td>\n",
       "    </tr>\n",
       "    <tr>\n",
       "      <th>6</th>\n",
       "      <td>观音寺南里</td>\n",
       "      <td>130.04</td>\n",
       "      <td>2001</td>\n",
       "      <td>观音寺-(大兴)观音寺南里</td>\n",
       "      <td>405</td>\n",
       "      <td>31144</td>\n",
       "      <td>观音寺</td>\n",
       "    </tr>\n",
       "    <tr>\n",
       "      <th>7</th>\n",
       "      <td>观音寺新区</td>\n",
       "      <td>86.58</td>\n",
       "      <td>2005</td>\n",
       "      <td>观音寺-(大兴)观音寺北里</td>\n",
       "      <td>370</td>\n",
       "      <td>42735</td>\n",
       "      <td>观音寺</td>\n",
       "    </tr>\n",
       "    <tr>\n",
       "      <th>8</th>\n",
       "      <td>海子角南里</td>\n",
       "      <td>77</td>\n",
       "      <td>1995</td>\n",
       "      <td>观音寺-(大兴)海子角南里</td>\n",
       "      <td>220</td>\n",
       "      <td>28571</td>\n",
       "      <td>观音寺</td>\n",
       "    </tr>\n",
       "    <tr>\n",
       "      <th>9</th>\n",
       "      <td>观音寺小区</td>\n",
       "      <td>70.65</td>\n",
       "      <td>2006</td>\n",
       "      <td>观音寺-观音寺街20号</td>\n",
       "      <td>218</td>\n",
       "      <td>30856</td>\n",
       "      <td>观音寺</td>\n",
       "    </tr>\n",
       "  </tbody>\n",
       "</table>\n",
       "</div>"
      ],
      "text/plain": [
       "   title size(㎡)  year       location total price(万) price per square(元/㎡)  \\\n",
       "0   双河南里   99.36  1999   观音寺-(大兴)双河南里            330                 33212   \n",
       "1  海子角西里   82.72  2000  观音寺-(大兴)海子角西里            249                 30101   \n",
       "2  观音寺南里   84.64  2005  观音寺-(大兴)观音寺南里            275                 32490   \n",
       "3  观音寺小区   83.12  1994    观音寺-观音寺街20号            328                 39461   \n",
       "4  观音寺南里  130.04  2001  观音寺-(大兴)观音寺南里            411                 31605   \n",
       "5  海子角南里   77.75  2006  观音寺-(大兴)海子角南里            190                 24437   \n",
       "6  观音寺南里  130.04  2001  观音寺-(大兴)观音寺南里            405                 31144   \n",
       "7  观音寺新区   86.58  2005  观音寺-(大兴)观音寺北里            370                 42735   \n",
       "8  海子角南里      77  1995  观音寺-(大兴)海子角南里            220                 28571   \n",
       "9  观音寺小区   70.65  2006    观音寺-观音寺街20号            218                 30856   \n",
       "\n",
       "  block  \n",
       "0   观音寺  \n",
       "1   观音寺  \n",
       "2   观音寺  \n",
       "3   观音寺  \n",
       "4   观音寺  \n",
       "5   观音寺  \n",
       "6   观音寺  \n",
       "7   观音寺  \n",
       "8   观音寺  \n",
       "9   观音寺  "
      ]
     },
     "execution_count": 29,
     "metadata": {},
     "output_type": "execute_result"
    }
   ],
   "source": [
    "house_list.head(10)"
   ]
  },
  {
   "cell_type": "code",
   "execution_count": 32,
   "id": "15206144-f15a-4dc1-869b-df9f2485b0a2",
   "metadata": {
    "tags": []
   },
   "outputs": [],
   "source": [
    "#Turn the information we crawl into a csv file and share them with the groupmates.\n",
    "house_list.to_csv('观音寺二手房房价.csv',index=False)"
   ]
  }
 ],
 "metadata": {
  "kernelspec": {
   "display_name": "Python 3 (ipykernel)",
   "language": "python",
   "name": "python3"
  },
  "language_info": {
   "codemirror_mode": {
    "name": "ipython",
    "version": 3
   },
   "file_extension": ".py",
   "mimetype": "text/x-python",
   "name": "python",
   "nbconvert_exporter": "python",
   "pygments_lexer": "ipython3",
   "version": "3.11.4"
  }
 },
 "nbformat": 4,
 "nbformat_minor": 5
}
